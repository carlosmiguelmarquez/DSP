{
  "nbformat": 4,
  "nbformat_minor": 0,
  "metadata": {
    "colab": {
      "provenance": []
    },
    "kernelspec": {
      "name": "python3",
      "display_name": "Python 3"
    },
    "language_info": {
      "name": "python"
    }
  },
  "cells": [
    {
      "cell_type": "markdown",
      "source": [
        "## Prelim Term Problem Set"
      ],
      "metadata": {
        "id": "heqVBYQurRbl"
      }
    },
    {
      "cell_type": "markdown",
      "source": [
        "###Part 1"
      ],
      "metadata": {
        "id": "20RIaANErpHc"
      }
    },
    {
      "cell_type": "code",
      "source": [
        "import numpy as np\n",
        "import matplotlib.pyplot as plt\n",
        "\n",
        "#Part 1.1\n",
        "\n",
        "H = np.array([\n",
        "    [1,1],\n",
        "    [1,-1]\n",
        "])\n",
        "\n",
        "Y = np.array([\n",
        "    [0,-1j],\n",
        "    [1j,0]\n",
        "])\n",
        "\n",
        "dot_a = np.dot(0.71, H)\n",
        "dot_b = np.dot(dot_a, Y)\n",
        "#magnitude\n",
        "def f_norm(n, vector):\n",
        "  n_sum = np.sum(vector**n)\n",
        "  vector_norm = np.power(n_sum, 1/n)\n",
        "  return vector_norm\n",
        "\n",
        "def l1_norm(vector):\n",
        "  vect_norm = np.sum(vector)\n",
        "  return vect_norm\n",
        "\n",
        "f_norm(1, dot_b)"
      ],
      "metadata": {
        "colab": {
          "base_uri": "https://localhost:8080/"
        },
        "id": "8MaWvq_1rV8R",
        "outputId": "94c42541-6551-414f-d2fc-40d8166b5954"
      },
      "execution_count": 48,
      "outputs": [
        {
          "output_type": "execute_result",
          "data": {
            "text/plain": [
              "-1.42j"
            ]
          },
          "metadata": {},
          "execution_count": 48
        }
      ]
    },
    {
      "cell_type": "code",
      "source": [
        "#Part 1.2\n",
        "\n",
        "H = np.array([\n",
        "    [1,1],\n",
        "    [1,-1]\n",
        "])\n",
        "\n",
        "Y = np.array([\n",
        "    [0,-1j],\n",
        "    [1j,0]\n",
        "])\n",
        "\n",
        "dot_a = np.dot(1, Y)\n",
        "dot_b = np.dot(0.71, H)\n",
        "dot_c = np.dot(dot_a, dot_b)\n",
        "#magnitude\n",
        "def f_norm(n, vector):\n",
        "  n_sum = np.sum(vector**n)\n",
        "  vector_norm = np.power(n_sum, 1/n)\n",
        "  return vector_norm\n",
        "\n",
        "f_norm(1, dot_c)"
      ],
      "metadata": {
        "colab": {
          "base_uri": "https://localhost:8080/"
        },
        "id": "Gaop6vnVusqa",
        "outputId": "e45dc136-ec1b-41a7-a2f1-32048264997e"
      },
      "execution_count": 49,
      "outputs": [
        {
          "output_type": "execute_result",
          "data": {
            "text/plain": [
              "1.42j"
            ]
          },
          "metadata": {},
          "execution_count": 49
        }
      ]
    },
    {
      "cell_type": "code",
      "source": [
        "#Part 1.3\n",
        "\n",
        "H = np.array([\n",
        "    [1,1],\n",
        "    [1,-1]\n",
        "])\n",
        "\n",
        "dot_a = np.dot(0.71, H)\n",
        "dot_b = np.dot(dot_a, dot_a)\n",
        "#magnitude\n",
        "def f_norm(n, vector):\n",
        "  n_sum = np.sum(vector**n)\n",
        "  vector_norm = np.power(n_sum, 1/n)\n",
        "  return vector_norm\n",
        "\n",
        "def l1_norm(vector):\n",
        "  vect_norm = np.sum(vector)\n",
        "  return vect_norm\n",
        "\n",
        "f_norm(1, dot_b)"
      ],
      "metadata": {
        "colab": {
          "base_uri": "https://localhost:8080/"
        },
        "id": "d35CkRI9us8l",
        "outputId": "d8f2af63-7d11-448d-d779-29060d3c455e"
      },
      "execution_count": 50,
      "outputs": [
        {
          "output_type": "execute_result",
          "data": {
            "text/plain": [
              "2.0164"
            ]
          },
          "metadata": {},
          "execution_count": 50
        }
      ]
    },
    {
      "cell_type": "code",
      "source": [
        "#Part 1.4\n",
        "\n",
        "H = np.array([\n",
        "    [1,1],\n",
        "    [1,-1]\n",
        "])\n",
        "\n",
        "Y = np.array([\n",
        "    [0,-1j],\n",
        "    [1j,0]\n",
        "])\n",
        "\n",
        "O = np.array([\n",
        "    [1,0],\n",
        "    [1,1]\n",
        "])\n",
        "\n",
        "dot_a = np.dot(1, Y)\n",
        "dot_b = np.dot(0.71, H)\n",
        "dot_c = np.dot(dot_a, dot_b)\n",
        "dot_d = np.dot(dot_c, O)\n",
        "#magnitude\n",
        "def f_norm(n, vector):\n",
        "  n_sum = np.sum(vector**n)\n",
        "  vector_norm = np.power(n_sum, 1/n)\n",
        "  return vector_norm\n",
        "\n",
        "def l1_norm(vector):\n",
        "  vect_norm = np.sum(vector)\n",
        "  return vect_norm\n",
        "\n",
        "f_norm(1, dot_d)"
      ],
      "metadata": {
        "colab": {
          "base_uri": "https://localhost:8080/"
        },
        "id": "rg7sgt4MutO9",
        "outputId": "8402194f-eb9d-4213-f7ac-451f14c56f3f"
      },
      "execution_count": 52,
      "outputs": [
        {
          "output_type": "execute_result",
          "data": {
            "text/plain": [
              "2.84j"
            ]
          },
          "metadata": {},
          "execution_count": 52
        }
      ]
    },
    {
      "cell_type": "code",
      "source": [
        "#Part 1.5\n",
        "\n",
        "H = np.array([\n",
        "    [1,1],\n",
        "    [1,-1]\n",
        "])\n",
        "\n",
        "Y = np.array([\n",
        "    [0,-1j],\n",
        "    [1j,0]\n",
        "])\n",
        "\n",
        "O = np.array([\n",
        "    [1,0],\n",
        "    [1,1]\n",
        "])\n",
        "\n",
        "dot_a = np.dot(0.71, H)\n",
        "dot_b = np.dot(dot_a, Y)\n",
        "dot_c = np.dot(dot_a, O)\n",
        "dot_d = np.dot(dot_b, dot_c)\n",
        "#magnitude\n",
        "def f_norm(n, vector):\n",
        "  n_sum = np.sum(vector**n)\n",
        "  vector_norm = np.power(n_sum, 1/n)\n",
        "  return vector_norm\n",
        "\n",
        "def l1_norm(vector):\n",
        "  vect_norm = np.sum(vector)\n",
        "  return vect_norm\n",
        "\n",
        "f_norm(1, dot_d)"
      ],
      "metadata": {
        "colab": {
          "base_uri": "https://localhost:8080/"
        },
        "id": "relaNhRXutiT",
        "outputId": "3b3e1da0-60e2-46e9-d411-3fbfe3956e25"
      },
      "execution_count": 53,
      "outputs": [
        {
          "output_type": "execute_result",
          "data": {
            "text/plain": [
              "1.0082j"
            ]
          },
          "metadata": {},
          "execution_count": 53
        }
      ]
    },
    {
      "cell_type": "markdown",
      "source": [
        "###Part 2"
      ],
      "metadata": {
        "id": "_rauTIm80Vmd"
      }
    },
    {
      "cell_type": "code",
      "source": [
        "#Part 2\n",
        "\n",
        "H = np.array([\n",
        "    [1,1],\n",
        "    [1,-1]\n",
        "])\n",
        "\n",
        "Y = np.array([\n",
        "    [0,-1j],\n",
        "    [1j,0]\n",
        "])\n",
        "\n",
        "dot_a = np.dot(1/np.sqrt(2), H)\n",
        "print(\"Determinant of H:\", np.linalg.det(dot_a))\n",
        "print(\"Determinant of Y:\", np.linalg.det(Y))"
      ],
      "metadata": {
        "colab": {
          "base_uri": "https://localhost:8080/"
        },
        "id": "nfHD3lEa0Yns",
        "outputId": "1c83162b-7b42-415e-8cef-336b454d9c24"
      },
      "execution_count": 54,
      "outputs": [
        {
          "output_type": "stream",
          "name": "stdout",
          "text": [
            "Determinant of H: -0.9999999999999999\n",
            "Determinant of Y: (-1+0j)\n"
          ]
        }
      ]
    },
    {
      "cell_type": "markdown",
      "source": [
        "###Part 3"
      ],
      "metadata": {
        "id": "0ICyOIgm2nYS"
      }
    },
    {
      "cell_type": "code",
      "source": [
        "#Part 3.1\n",
        "\n",
        "A = np.array([\n",
        "    [5,0,0],\n",
        "    [0,5,0],\n",
        "    [0,0,5]\n",
        "])\n",
        "\n",
        "B = np.array([\n",
        "    [1,0,5],\n",
        "    [2,7,6],\n",
        "    [6,4,7]\n",
        "])\n",
        "\n",
        "dot_a = np.dot(A,B)\n",
        "dot_linear = np.linalg.det(dot_a)\n",
        "if (dot_linear != 0):\n",
        "  print(dot_linear)\n",
        "  print(\"Linear transformation: Dependent\")\n",
        "else:\n",
        "  print(\"Linear transformation: Independent\")"
      ],
      "metadata": {
        "colab": {
          "base_uri": "https://localhost:8080/"
        },
        "id": "gtgsm7CX2p_5",
        "outputId": "042a36fb-eaf4-4216-8e69-01e7bfc7b302"
      },
      "execution_count": 55,
      "outputs": [
        {
          "output_type": "stream",
          "name": "stdout",
          "text": [
            "-18124.99999999999\n",
            "Linear transformation: Dependent\n"
          ]
        }
      ]
    },
    {
      "cell_type": "code",
      "source": [
        "#Part 3.2\n",
        "\n",
        "A = np.array([\n",
        "    [1,2,6],\n",
        "    [3,15,4],\n",
        "    [2,10,3]\n",
        "])\n",
        "\n",
        "B = np.array([\n",
        "    [5,2,4],\n",
        "    [6,2,4],\n",
        "    [0,1,1]\n",
        "])\n",
        "\n",
        "dot_b = np.dot(A,B)\n",
        "dot_linear = np.linalg.det(dot_b)\n",
        "if (dot_linear != 0):\n",
        "  print(dot_linear)\n",
        "  print(\"Linear transformation: Dependent\")\n",
        "else:\n",
        "  print(\"Linear transformation: Independent\")"
      ],
      "metadata": {
        "colab": {
          "base_uri": "https://localhost:8080/"
        },
        "id": "cT0OWWCc_cGL",
        "outputId": "f68899ff-772a-4668-d9f4-d893c8276f8c"
      },
      "execution_count": 56,
      "outputs": [
        {
          "output_type": "stream",
          "name": "stdout",
          "text": [
            "6.000000000001367\n",
            "Linear transformation: Dependent\n"
          ]
        }
      ]
    },
    {
      "cell_type": "markdown",
      "source": [
        "###Part 4"
      ],
      "metadata": {
        "id": "C9BrAco82uKZ"
      }
    },
    {
      "cell_type": "code",
      "source": [
        "#Part 4\n",
        "\n",
        "T = np.array([0, np.pi/4, np.pi/2, 3*np.pi/4, np.pi])\n",
        "G = np.array([5, 3, 0, -3, 5])\n",
        "\n",
        "plt.figure(figsize=(8, 4))\n",
        "plt.plot(T, G, marker = 's', color = 'green')\n",
        "plt.xlabel('Time (T)')\n",
        "plt.ylabel('Amplitude (G)')\n",
        "plt.grid(True)\n",
        "plt.show()"
      ],
      "metadata": {
        "colab": {
          "base_uri": "https://localhost:8080/",
          "height": 388
        },
        "id": "VVv9hpkV2wDT",
        "outputId": "c9bf0915-3b36-436f-ef2b-85599529b9c5"
      },
      "execution_count": 57,
      "outputs": [
        {
          "output_type": "display_data",
          "data": {
            "text/plain": [
              "<Figure size 800x400 with 1 Axes>"
            ],
            "image/png": "[encoded data removed]"
          },
          "metadata": {}
        }
      ]
    }
  ]
}